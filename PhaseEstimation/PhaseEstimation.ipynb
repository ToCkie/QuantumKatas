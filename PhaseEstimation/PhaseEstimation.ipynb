{
 "cells": [
  {
   "cell_type": "markdown",
   "metadata": {},
   "source": [
    "# Phase Estimation\n",
    "\n",
    "The **\"Phase Estimation\"** quantum kata is a series of exercises designed\n",
    "to teach you the basics of using phase estimation algorithms.\n",
    "\n",
    "It covers the following topics:\n",
    "* quantum phase estimation,\n",
    "* iterative phase estimation,\n",
    "* preparing necessary inputs to phase estimation routines and applying them.\n",
    "\n",
    "Each task is wrapped in one operation preceded by the description of the task.\n",
    "Your goal is to fill in the blank (marked with the `// ...` comments)\n",
    "with some Q# code that solves the task. To verify your answer, run the cell using Ctrl+Enter (⌘+Enter on macOS).\n",
    "\n",
    "Within each section, tasks are given in approximate order of increasing difficulty; \n",
    "harder ones are marked with asterisks."
   ]
  },
  {
   "cell_type": "markdown",
   "metadata": {},
   "source": [
    "## Part I. Quantum Phase Estimation (QPE)"
   ]
  },
  {
   "cell_type": "markdown",
   "metadata": {},
   "source": [
    "### Task 1.1. Inputs to QPE: eigenstates of Z/S/T gates.\n",
    "\n",
    "**Inputs:** \n",
    "\n",
    "  1. A qubit in the $|0\\rangle$ state.\n",
    "\n",
    "  2. An integer `state` indicating which eigenstate to prepare.\n",
    "\n",
    "**Goal:** \n",
    "\n",
    "Prepare one of the eigenstates of Z gate (which are the same as eigenstates of S or T gates): \n",
    "eigenstate $|0\\rangle$ if `state = 0`, or eigenstate $|1\\rangle$ if `state = 1`."
   ]
  },
  {
   "cell_type": "code",
   "execution_count": null,
   "metadata": {
    "ExecuteTime": {
     "start_time": "2021-09-10T16:17:13.465Z"
    }
   },
   "outputs": [
    {
     "data": {
      "application/x-qsharp-data": "\"Success!\"",
      "text/plain": [
       "Success!"
      ]
     },
     "execution_count": 1,
     "metadata": {},
     "output_type": "execute_result"
    }
   ],
   "source": [
    "%kata T11_Eigenstates_ZST \n",
    "\n",
    "operation Eigenstates_ZST (q : Qubit, state : Int) : Unit is Adj {\n",
    "    // ...\n",
    "    if state == 1 {\n",
    "        X(q);\n",
    "    }\n",
    "}"
   ]
  },
  {
   "cell_type": "markdown",
   "metadata": {},
   "source": [
    "### Task 1.2. Inputs to QPE: powers of Z/S/T gates.\n",
    "\n",
    "**Inputs:** \n",
    "\n",
    "  1. A single-qubit unitary U.\n",
    "\n",
    "  2. A positive integer `power`.\n",
    "\n",
    "**Output:** \n",
    "\n",
    "A single-qubit unitary equal to U raised to the given power.\n",
    "\n",
    "<br/>\n",
    "<details>\n",
    "  <summary><b>Need a hint? Click here</b></summary>\n",
    "  Remember that you can define auxiliary operations. To do that, you'll need to create an extra code cell for each new operation and execute it before returning to this cell. \n",
    "</details>"
   ]
  },
  {
   "cell_type": "code",
   "execution_count": null,
   "metadata": {
    "ExecuteTime": {
     "start_time": "2021-09-10T16:19:33.233Z"
    }
   },
   "outputs": [
    {
     "data": {
      "application/x-qsharp-data": "[\"UnitaryPowerHelper\"]",
      "text/html": [
       "<ul><li>UnitaryPowerHelper</li></ul>"
      ],
      "text/plain": [
       "UnitaryPowerHelper"
      ]
     },
     "execution_count": 4,
     "metadata": {},
     "output_type": "execute_result"
    }
   ],
   "source": [
    "operation UnitaryPowerHelper(U: (Qubit => Unit is Adj+Ctl), power: Int, q: Qubit): Unit is Adj + Ctl {\n",
    "    for i in 1..power {\n",
    "        U(q);\n",
    "    }\n",
    "}"
   ]
  },
  {
   "cell_type": "code",
   "execution_count": null,
   "metadata": {
    "ExecuteTime": {
     "start_time": "2021-09-10T16:20:32.795Z"
    }
   },
   "outputs": [
    {
     "data": {
      "application/x-qsharp-data": "\"Success!\"",
      "text/plain": [
       "Success!"
      ]
     },
     "execution_count": 5,
     "metadata": {},
     "output_type": "execute_result"
    }
   ],
   "source": [
    "%kata T12_UnitaryPower \n",
    "\n",
    "function UnitaryPower (U : (Qubit => Unit is Adj + Ctl), power : Int) : (Qubit => Unit is Adj + Ctl) {\n",
    "    // ...\n",
    "    return UnitaryPowerHelper(U, power, _);\n",
    "}"
   ]
  },
  {
   "cell_type": "markdown",
   "metadata": {},
   "source": [
    "### Task 1.3. Validate inputs to QPE.\n",
    "\n",
    "<span style=\"color:red\"><b>This task is temporarily not available in Notebook format; please use Q# project version of the PhaseEstimation kata to complete it.</b></span>\n",
    "\n",
    "**Inputs:**\n",
    "\n",
    "  1. A single-qubit unitary U.\n",
    "\n",
    "  2. A single-qubit state $|\\psi\\rangle$ represented by a unitary P such that $|\\psi\\rangle = P|0\\rangle$\n",
    "(i.e., applying the unitary P to state $|0\\rangle$ prepares state $|\\psi\\rangle$).\n",
    "\n",
    "**Goal:** \n",
    "\n",
    "Assert that the given state is an eigenstate of the given unitary, \n",
    "i.e., do nothing if it is, and throw an exception if it is not."
   ]
  },
  {
   "cell_type": "markdown",
   "metadata": {},
   "source": [
    "### Task 1.4. QPE for single-qubit unitaries.\n",
    "\n",
    "**Inputs:** \n",
    "\n",
    "  1. A single-qubit unitary U.\n",
    "\n",
    "  2. A single-qubit state $|\\psi\\rangle$ represented by a unitary P such that $|\\psi\\rangle = P|0\\rangle$\n",
    "(i.e., applying the unitary P to state $|0\\rangle$ prepares state $|\\psi\\rangle$).\n",
    "\n",
    "  3. An integer `n`.\n",
    "\n",
    "**Output:**\n",
    "\n",
    "The phase of the eigenvalue that corresponds to the eigenstate $|\\psi\\rangle$, with `n` bits of precision.\n",
    "The phase should be between 0.0 and 1.0."
   ]
  },
  {
   "cell_type": "code",
   "execution_count": null,
   "metadata": {
    "ExecuteTime": {
     "start_time": "2021-09-10T16:44:17.403Z"
    }
   },
   "outputs": [
    {
     "data": {
      "application/x-qsharp-data": "[]",
      "text/html": [
       "<ul></ul>"
      ],
      "text/plain": []
     },
     "execution_count": 33,
     "metadata": {},
     "output_type": "execute_result"
    }
   ],
   "source": [
    "open Microsoft.Quantum.Convert;\n",
    "open Microsoft.Quantum.Arithmetic;\n",
    "open Microsoft.Quantum.Diagnostics;"
   ]
  },
  {
   "cell_type": "code",
   "execution_count": null,
   "metadata": {
    "ExecuteTime": {
     "start_time": "2021-09-10T16:45:23.664Z"
    }
   },
   "outputs": [
    {
     "data": {
      "application/x-qsharp-data": "{\"rows\":[{\"Key\":\"dump.basisStateLabelingConvention\",\"Value\":\"Bitstring\"},{\"Key\":\"dump.truncationThreshold\",\"Value\":0.01},{\"Key\":\"dump.truncateSmallAmplitudes\",\"Value\":true}]}",
      "text/html": [
       "<table><thead><tr><th style=\"text-align: start;\">Configuration key</th><th style=\"text-align: start;\">Value</th></tr></thead><tbody><tr><td style=\"text-align: start;\">dump.basisStateLabelingConvention</td><td style=\"text-align: start;\">\"Bitstring\"</td></tr><tr><td style=\"text-align: start;\">dump.truncationThreshold</td><td style=\"text-align: start;\">0.01</td></tr><tr><td style=\"text-align: start;\">dump.truncateSmallAmplitudes</td><td style=\"text-align: start;\">true</td></tr></tbody></table>"
      ],
      "text/plain": [
       "Configuration key                 Value\n",
       "--------------------------------- -----------\n",
       "dump.basisStateLabelingConvention \"Bitstring\"\n",
       "dump.truncationThreshold          0.01\n",
       "dump.truncateSmallAmplitudes      true\n"
      ]
     },
     "execution_count": 36,
     "metadata": {},
     "output_type": "execute_result"
    }
   ],
   "source": [
    "%config dump.basisStateLabelingConvention = \"Bitstring\"\n",
    "%config dump.truncationThreshold = 0.01\n",
    "%config dump.truncateSmallAmplitudes = true\n",
    "%config  "
   ]
  },
  {
   "cell_type": "raw",
   "metadata": {
    "ExecuteTime": {
     "start_time": "2021-09-10T17:00:42.587Z"
    },
    "hide_input": true
   },
   "source": [
    "# %kata T14_QPE\n",
    "\n",
    "operation QPE (U : (Qubit => Unit is Adj + Ctl), P : (Qubit => Unit is Adj), n : Int) : Double {\n",
    "        \n",
    "    use (eigenstate, phaseRegister) = (Qubit(), Qubit[n]);\n",
    "    // Prepare the eigenstate of U\n",
    "    P(eigenstate);\n",
    "\n",
    "    // Put phaseRegister into a uniform superposition of all computational basis states.\n",
    "    ApplyToEachA(H, phaseRegister);\n",
    "\n",
    "    // Apply controlled U gates so that |k⟩ gets transformed into exp(2πikθ)|k⟩.\n",
    "    // Here |k⟩ is encoded in little-endian format in phaseRegister.\n",
    "    for i in 0 .. n - 1 {\n",
    "        let powU = UnitaryPower(U, 1 <<< i); // powU = U^(2ⁱ)\n",
    "        Controlled powU([phaseRegister[i]], eigenstate);\n",
    "    }\n",
    "    \n",
    "    // Apply an inverse QFT to phaseRegister.\n",
    "    // We use QFTLE because phaseRegister is little-endian encoded.\n",
    "    // This leaves phaseRegister in a superposition of integers which are close to θ*2^n.\n",
    "    // See the linked Wikipedia article on the details of this superposition.\n",
    "    Adjoint QFTLE(LittleEndian(phaseRegister));\n",
    "    DumpMachine();\n",
    "    // Measure out an integer that is close to θ*2^n.\n",
    "    let phaseRegisterMeasurement = MeasureInteger(LittleEndian(phaseRegister));\n",
    "\n",
    "    // Clean up eigenstate qubits\n",
    "    Reset(eigenstate);\n",
    "\n",
    "    // Scale our measurement down to [0, 1) and return our estimate.\n",
    "    let phaseEstimate = IntAsDouble(phaseRegisterMeasurement) / IntAsDouble(1 <<< n);\n",
    "    return phaseEstimate;\n",
    "}"
   ]
  },
  {
   "cell_type": "code",
   "execution_count": null,
   "metadata": {
    "ExecuteTime": {
     "start_time": "2021-09-10T17:02:01.794Z"
    }
   },
   "outputs": [
    {
     "data": {
      "application/x-qsharp-data": "\"Success!\"",
      "text/plain": [
       "Success!"
      ]
     },
     "execution_count": 51,
     "metadata": {},
     "output_type": "execute_result"
    }
   ],
   "source": [
    "%kata T14_QPE \n",
    "\n",
    "operation QPE (U : (Qubit => Unit is Adj + Ctl), P : (Qubit => Unit is Adj), n : Int) : Double {\n",
    "    // ...\n",
    "    use qAux = Qubit[n];\n",
    "    use qPsi = Qubit();\n",
    "    //within {\n",
    "    P(qPsi);\n",
    "    //}apply{\n",
    "    ApplyToEach(H, qAux);\n",
    "    \n",
    "    for i in 0..n-1 {\n",
    "        Controlled (UnitaryPower(U, 2^i))([qAux[i]], qPsi);\n",
    "    }\n",
    "    \n",
    "    Adjoint QFTLE(LittleEndian(qAux)); // WHY ???!!\n",
    "    //}\n",
    "    //DumpMachine();\n",
    "    mutable phase = 0.0;\n",
    "    for i in 0..n-1 {\n",
    "        let m = M(qAux[n-i-1]) == One ? 1 | 0;\n",
    "        set phase = phase + IntAsDouble(m)*0.5^IntAsDouble(i+1);\n",
    "    }\n",
    "    Reset(qPsi);\n",
    "    \n",
    "    return phase;\n",
    "}"
   ]
  },
  {
   "cell_type": "markdown",
   "metadata": {},
   "source": [
    "### Task 1.5. Test your QPE implementation.\n",
    "\n",
    "**Goal:**\n",
    "Use your QPE implementation from task 1.4 to run quantum phase estimation \n",
    "on several simple unitaries and their eigenstates.\n",
    "This task is not covered by a test and allows you to experiment with running the algorithm.\n",
    "\n",
    "> This is an open-ended task, and is not covered by a unit test. To run the code, execute the cell with the definition of the `Run_QPE` operation first; if it compiled successfully without any errors, you can run the operation by executing the next cell (`%simulate Run_QPE`)."
   ]
  },
  {
   "cell_type": "code",
   "execution_count": null,
   "metadata": {},
   "outputs": [],
   "source": [
    "operation Run_QPE () : Unit {\n",
    "    // ...\n",
    "}"
   ]
  },
  {
   "cell_type": "code",
   "execution_count": null,
   "metadata": {},
   "outputs": [],
   "source": [
    "%simulate Run_QPE"
   ]
  },
  {
   "cell_type": "markdown",
   "metadata": {},
   "source": [
    "## Part II. Iterative Phase Estimation\n",
    "\n",
    "Unlike quantum phase estimation, which is a single algorithm, \n",
    "iterative phase estimation is a whole class of algorithms based on the same idea:\n",
    "treating phase estimation as a classical algorithm which learns the phase via a sequence of measurements\n",
    "(the measurement performed on each iteration can depend on the outcomes of previous iterations).\n",
    "\n",
    "A typical circuit for one iteration has the following structure:\n",
    "\n",
    "![Iterative Phase Estimation Circuit Diagram](./img/IPE_Circuit.PNG)\n",
    "\n",
    "($\\psi$ is the procedure to prepare the eigenstate $|\\psi\\rangle$, R is a rotation gate, and M is a power of the unitary U;\n",
    "both depend on the current information about the phase).\n",
    "\n",
    "The result of the measurement performed on the top qubit defines the next iteration."
   ]
  },
  {
   "cell_type": "markdown",
   "metadata": {},
   "source": [
    "### Task 2.1. Single-bit phase estimation.\n",
    "\n",
    "**Inputs:** \n",
    "\n",
    "  1. A single-qubit unitary U that is guaranteed to have an eigenvalue $+1$ or $-1$ \n",
    "(with eigenphases $0.0$ or $0.5$, respectively).\n",
    "\n",
    "  2. A single-qubit state $|\\psi\\rangle$ represented by a unitary P such that $|\\psi\\rangle = P|0\\rangle$\n",
    "(i.e., applying the unitary P to state $|0\\rangle$ prepares state $|\\psi\\rangle$).\n",
    "\n",
    "**Output:** \n",
    "\n",
    "The eigenvalue which corresponds to the eigenstate $|\\psi\\rangle$ ($+1$ or $-1$).\n",
    "\n",
    "You are allowed to allocate exactly two qubits and call `Controlled U` exactly once.\n",
    "\n",
    "> It is possible to use the QPE implementation from task 1.4 to solve this task,\n",
    "  but we suggest you implement the circuit by hand for the sake of learning."
   ]
  },
  {
   "cell_type": "code",
   "execution_count": null,
   "metadata": {
    "ExecuteTime": {
     "start_time": "2021-09-10T17:15:57.757Z"
    }
   },
   "outputs": [
    {
     "data": {
      "application/x-qsharp-data": "\"Success!\"",
      "text/plain": [
       "Success!"
      ]
     },
     "execution_count": 58,
     "metadata": {},
     "output_type": "execute_result"
    }
   ],
   "source": [
    "%kata T21_SingleBitPE \n",
    "\n",
    "operation SingleBitPE (U : (Qubit => Unit is Adj + Ctl), P : (Qubit => Unit is Adj)) : Int {\n",
    "    // ...\n",
    "    use (qPha, qPsi) = (Qubit(), Qubit());\n",
    "    P(qPsi);\n",
    "    H(qPha);\n",
    "    Z(qPha);\n",
    "    Controlled U([qPha], qPsi);\n",
    "    H(qPha);\n",
    "    let m = M(qPha) == One ? 1 | -1;\n",
    "    Reset(qPsi);\n",
    "    //DumpMachine();\n",
    "    return m;\n",
    "}"
   ]
  },
  {
   "cell_type": "markdown",
   "metadata": {},
   "source": [
    "### Task 2.2. Two bit phase estimation.\n",
    "\n",
    "**Inputs:**\n",
    "\n",
    "  1. A single-qubit unitary U that is guaranteed to have an eigenvalue $+1$, $i$, $-1$ or $-i$\n",
    "(with eigenphases $0.0$, $0.25$, $0.5$ or $0.75$, respectively).\n",
    "\n",
    "  2. A single-qubit state $|\\psi\\rangle$ represented by a unitary P such that $|\\psi\\rangle = P|0\\rangle$\n",
    "(i.e., applying the unitary P to state $|0\\rangle$ prepares state $|\\psi\\rangle$).\n",
    "\n",
    "**Output:**\n",
    "\n",
    "The eigenphase which corresponds to the eigenstate $|\\psi\\rangle$ ($0.0$, $0.25$, $0.5$ or $0.75$).\n",
    "The returned value has to be accurate within the absolute error of 0.001.\n",
    "\n",
    "You are allowed to allocate exactly two qubits and call `Controlled U` multiple times.\n",
    "\n",
    "<br/>\n",
    "<details>\n",
    "  <summary><b>Need a hint? Click here</b></summary>\n",
    "  Start by applying the same circuit as in task 2.1.  \n",
    "  What are the possible outcomes for each eigenvalue?  \n",
    "  What eigenvalues you can and can not distinguish using this circuit?\n",
    "</details>\n",
    "\n",
    "<br/>\n",
    "<details>\n",
    "  <summary><b>Need another hint? Click here</b></summary>\n",
    "  What eigenvalues you can and can not distinguish using this circuit?\n",
    "  What circuit you can apply to distinguish them?\n",
    "</details>"
   ]
  },
  {
   "cell_type": "code",
   "execution_count": null,
   "metadata": {
    "ExecuteTime": {
     "start_time": "2021-09-10T19:55:38.345Z"
    }
   },
   "outputs": [
    {
     "data": {
      "application/x-qsharp-data": "\"Success!\"",
      "text/plain": [
       "Success!"
      ]
     },
     "execution_count": 61,
     "metadata": {},
     "output_type": "execute_result"
    }
   ],
   "source": [
    "%kata T22_TwoBitPE \n",
    "\n",
    "operation TwoBitPE (U : (Qubit => Unit is Adj + Ctl), P : (Qubit => Unit is Adj)) : Double {\n",
    "    // ...\n",
    "    use (qPha, qPsi) = (Qubit(), Qubit());\n",
    "    P(qPsi);\n",
    "    H(qPha);\n",
    "    Controlled U([qPha], qPsi);\n",
    "    Controlled U([qPha], qPsi);\n",
    "    H(qPha);\n",
    "    let mPha = M(qPha);\n",
    "    Reset(qPsi);\n",
    "    Reset(qPha);\n",
    "    \n",
    "    if (mPha == One) { // Imaginary components \n",
    "        P(qPsi);\n",
    "        H(qPha);\n",
    "        S(qPha);\n",
    "        Controlled U([qPha], qPsi);\n",
    "        H(qPha);\n",
    "        let output = M(qPha) == Zero? 0.75 | 0.25;\n",
    "        Reset(qPsi);\n",
    "        return output;\n",
    "        \n",
    "    } else { // mPha = Zero\n",
    "        P(qPsi);\n",
    "        H(qPha);\n",
    "        Controlled U([qPha], qPsi);\n",
    "        H(qPha);\n",
    "        let output = M(qPha) == Zero ? 0.0 | 0.5 ;\n",
    "        Reset(qPsi);\n",
    "        return output;\n",
    "    }\n",
    "    \n",
    "    // return -1.0;\n",
    "}"
   ]
  },
  {
   "cell_type": "markdown",
   "metadata": {},
   "source": [
    "To be continued..."
   ]
  }
 ],
 "metadata": {
  "kernelspec": {
   "display_name": "Q#",
   "language": "qsharp",
   "name": "iqsharp"
  },
  "language_info": {
   "file_extension": ".qs",
   "mimetype": "text/x-qsharp",
   "name": "qsharp",
   "version": "0.14"
  },
  "toc": {
   "base_numbering": 1,
   "nav_menu": {},
   "number_sections": true,
   "sideBar": true,
   "skip_h1_title": false,
   "title_cell": "Table of Contents",
   "title_sidebar": "Contents",
   "toc_cell": false,
   "toc_position": {},
   "toc_section_display": true,
   "toc_window_display": true
  },
  "varInspector": {
   "cols": {
    "lenName": 16,
    "lenType": 16,
    "lenVar": 40
   },
   "kernels_config": {
    "python": {
     "delete_cmd_postfix": "",
     "delete_cmd_prefix": "del ",
     "library": "var_list.py",
     "varRefreshCmd": "print(var_dic_list())"
    },
    "r": {
     "delete_cmd_postfix": ") ",
     "delete_cmd_prefix": "rm(",
     "library": "var_list.r",
     "varRefreshCmd": "cat(var_dic_list()) "
    }
   },
   "types_to_exclude": [
    "module",
    "function",
    "builtin_function_or_method",
    "instance",
    "_Feature"
   ],
   "window_display": false
  }
 },
 "nbformat": 4,
 "nbformat_minor": 2
}
