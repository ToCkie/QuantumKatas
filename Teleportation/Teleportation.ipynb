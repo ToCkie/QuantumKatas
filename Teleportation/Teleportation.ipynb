{
 "cells": [
  {
   "cell_type": "markdown",
   "metadata": {},
   "source": [
    "# Teleportation Kata\n",
    "\n",
    "**Teleportation** quantum kata is a series of exercises designed to get you familiar with programming in Q#. It covers the quantum teleportation protocol which allows you to communicate a quantum state using only classical communication and previously shared quantum entanglement.\n",
    "\n",
    " - Teleportation is described in [this Wikipedia article](https://en.wikipedia.org/wiki/Quantum_teleportation).\n",
    " - An interactive demonstration can be found [on the Wolfram Demonstrations Project](http://demonstrations.wolfram.com/QuantumTeleportation/).\n",
    "\n",
    "Each task is wrapped in one operation preceded by the description of the task.  Your goal is to fill in the blank (marked with `// ...` comment) with some Q# code that solves the task. To verify your answer, run the cell using Ctrl+Enter (⌘+Enter on macOS)."
   ]
  },
  {
   "cell_type": "code",
   "execution_count": null,
   "metadata": {
    "ExecuteTime": {
     "start_time": "2021-08-20T15:35:39.850Z"
    }
   },
   "outputs": [
    {
     "data": {
      "application/x-qsharp-data": "[]",
      "text/html": [
       "<ul></ul>"
      ],
      "text/plain": []
     },
     "execution_count": 31,
     "metadata": {},
     "output_type": "execute_result"
    }
   ],
   "source": [
    "open Microsoft.Quantum.Diagnostics;"
   ]
  },
  {
   "cell_type": "code",
   "execution_count": null,
   "metadata": {
    "ExecuteTime": {
     "start_time": "2021-08-20T15:35:42.947Z"
    }
   },
   "outputs": [
    {
     "data": {
      "application/x-qsharp-data": "{\"rows\":[{\"Key\":\"dump.basisStateLabelingConvention\",\"Value\":\"Bitstring\"},{\"Key\":\"dump.truncationThreshold\",\"Value\":0.01},{\"Key\":\"dump.truncateSmallAmplitudes\",\"Value\":true}]}",
      "text/html": [
       "<table><thead><tr><th style=\"text-align: start;\">Configuration key</th><th style=\"text-align: start;\">Value</th></tr></thead><tbody><tr><td style=\"text-align: start;\">dump.basisStateLabelingConvention</td><td style=\"text-align: start;\">\"Bitstring\"</td></tr><tr><td style=\"text-align: start;\">dump.truncationThreshold</td><td style=\"text-align: start;\">0.01</td></tr><tr><td style=\"text-align: start;\">dump.truncateSmallAmplitudes</td><td style=\"text-align: start;\">true</td></tr></tbody></table>"
      ],
      "text/plain": [
       "Configuration key                 Value\n",
       "--------------------------------- -----------\n",
       "dump.basisStateLabelingConvention \"Bitstring\"\n",
       "dump.truncationThreshold          0.01\n",
       "dump.truncateSmallAmplitudes      true\n"
      ]
     },
     "execution_count": 32,
     "metadata": {},
     "output_type": "execute_result"
    }
   ],
   "source": [
    "%config dump.basisStateLabelingConvention = \"Bitstring\"\n",
    "%config dump.truncationThreshold = 0.01\n",
    "%config dump.truncateSmallAmplitudes = true\n",
    "%config  "
   ]
  },
  {
   "cell_type": "markdown",
   "metadata": {},
   "source": [
    "## Part I. Standard Teleportation\n",
    "We split the teleportation protocol into several steps:\n",
    "    \n",
    "* Preparation (creating the entangled pair of qubits that are sent to Alice and Bob).\n",
    "* Sending the message (Alice's task): Entangling the message qubit with Alice's qubit and extracting two classical bits to be sent to Bob.\n",
    "* Reconstructing the message (Bob's task): Using the two classical bits Bob received from Alice to get Bob's qubit into the state in which the message qubit had been originally.  Finally, we compose these steps into the complete teleportation protocol."
   ]
  },
  {
   "cell_type": "markdown",
   "metadata": {},
   "source": [
    "### Task 1.1. Entangled pair\n",
    "\n",
    "**Input:** two qubits qAlice and qBob, each in $|0\\rangle$ state.\n",
    "\n",
    "**Goal:**  prepare a Bell state $|\\Phi^{+}\\rangle = \\frac{1}{\\sqrt{2}}(|00\\rangle + |11\\rangle)$ on these qubits.\n",
    "\n",
    "> In the context of the quantum teleportation protocol, this is the preparation step: qubits qAlice and qBob will be sent to Alice and Bob, respectively."
   ]
  },
  {
   "cell_type": "code",
   "execution_count": null,
   "metadata": {
    "ExecuteTime": {
     "start_time": "2021-08-20T07:44:47.159Z"
    }
   },
   "outputs": [
    {
     "data": {
      "application/x-qsharp-data": "\"Success!\"",
      "text/plain": [
       "Success!"
      ]
     },
     "execution_count": 1,
     "metadata": {},
     "output_type": "execute_result"
    }
   ],
   "source": [
    "%kata T11_Entangle \n",
    "\n",
    "operation Entangle (qAlice : Qubit, qBob : Qubit) : Unit {\n",
    "    // ...\n",
    "    H(qAlice);\n",
    "    CNOT(qAlice, qBob);\n",
    "}"
   ]
  },
  {
   "cell_type": "markdown",
   "metadata": {},
   "source": [
    "### Task 1.2. Send the message (Alice's task)\n",
    "\n",
    "Entangle the message qubit with Alice's qubit and extract two classical bits to be sent to Bob.\n",
    "\n",
    "**Inputs**: \n",
    "1. Alice's part of the entangled pair of qubits qAlice.\n",
    "2. The message qubit qMessage.\n",
    "\n",
    "**Output**:\n",
    "Two classical bits Alice will send to Bob via classical channel as a tuple of Bool values. The first bit in the tuple should hold the result of measurement of the message qubit, the second bit - the result of measurement of Alice's qubit.\n",
    "Represent measurement result 'One' as `true` and 'Zero' as `false`.  The state of the qubits in the end of the operation doesn't matter."
   ]
  },
  {
   "cell_type": "code",
   "execution_count": null,
   "metadata": {
    "ExecuteTime": {
     "start_time": "2021-08-20T07:49:24.698Z"
    }
   },
   "outputs": [
    {
     "data": {
      "application/x-qsharp-data": "\"Success!\"",
      "text/plain": [
       "Success!"
      ]
     },
     "execution_count": 6,
     "metadata": {},
     "output_type": "execute_result"
    }
   ],
   "source": [
    "%kata T12_SendMessage \n",
    "\n",
    "operation SendMessage (qAlice : Qubit, qMessage : Qubit) : (Bool, Bool) {\n",
    "    // ...\n",
    "    CNOT(qMessage, qAlice);\n",
    "    H(qMessage);\n",
    "    let mqa = M(qAlice) == One;\n",
    "    let mqm = M(qMessage) == One;\n",
    "    return (mqm, mqa);\n",
    "}"
   ]
  },
  {
   "cell_type": "markdown",
   "metadata": {},
   "source": [
    "### Task 1.3. Reconstruct the message (Bob's task)\n",
    "\n",
    "Transform Bob's qubit into the required state using the two classical bits received from Alice.\n",
    "\n",
    "**Inputs**: \n",
    "1. Bob's part of the entangled pair of qubits qBob.\n",
    "2. The tuple of classical bits received from Alice, in the format used in task 1.2.\n",
    "\n",
    "**Goal** : Transform Bob's qubit qBob into the state in which the message qubit had been originally."
   ]
  },
  {
   "cell_type": "code",
   "execution_count": null,
   "metadata": {
    "ExecuteTime": {
     "start_time": "2021-08-20T07:51:50.379Z"
    }
   },
   "outputs": [
    {
     "data": {
      "application/x-qsharp-data": "\"Success!\"",
      "text/plain": [
       "Success!"
      ]
     },
     "execution_count": 8,
     "metadata": {},
     "output_type": "execute_result"
    }
   ],
   "source": [
    "%kata T13_ReconstructMessage \n",
    "\n",
    "operation ReconstructMessage (qBob : Qubit, (b1 : Bool, b2 : Bool)) : Unit {\n",
    "    // ...\n",
    "    if b1 == false and b2 == false {\n",
    "        \n",
    "    } elif b1 == false and b2 == true {\n",
    "        X(qBob);\n",
    "    } elif b1 == true  and b2 == false {\n",
    "        Z(qBob);\n",
    "    } elif b1 == true  and b2 == true {\n",
    "        X(qBob);\n",
    "        Z(qBob);\n",
    "    }\n",
    "}"
   ]
  },
  {
   "cell_type": "markdown",
   "metadata": {},
   "source": [
    "### Task 1.4. Standard teleportation protocol\n",
    "\n",
    "Put together the steps implemented in tasks 1.1 - 1.3 to implement the full teleportation protocol.\n",
    "\n",
    "**Inputs:**\n",
    "\n",
    "1. The two qubits qAlice and qBob in $|0\\rangle$ state.\n",
    "2. The message qubit qMessage in the state $|\\psi\\rangle$ to be teleported.\n",
    "\n",
    "**Goal:** Transform Bob's qubit qBob into the state $|\\psi\\rangle$. The state of the qubits qAlice and qMessage in the end of the operation doesn't matter."
   ]
  },
  {
   "cell_type": "code",
   "execution_count": null,
   "metadata": {
    "ExecuteTime": {
     "start_time": "2021-08-20T07:53:31.010Z"
    }
   },
   "outputs": [
    {
     "data": {
      "application/x-qsharp-data": "\"Success!\"",
      "text/plain": [
       "Success!"
      ]
     },
     "execution_count": 12,
     "metadata": {},
     "output_type": "execute_result"
    }
   ],
   "source": [
    "%kata T14_StandardTeleport\n",
    "\n",
    "operation StandardTeleport (qAlice : Qubit, qBob : Qubit, qMessage : Qubit) : Unit {\n",
    "    // ...\n",
    "    Entangle(qAlice, qBob);\n",
    "    let bits = SendMessage(qAlice, qMessage);\n",
    "    ReconstructMessage(qBob, bits);\n",
    "}"
   ]
  },
  {
   "cell_type": "markdown",
   "metadata": {},
   "source": [
    "### Task 1.5. Prepare a state and send it as a message (Alice's task)\n",
    "\n",
    "Given a Pauli basis along with a state `true` as 'One' or `false` as 'Zero', prepare a message qubit, entangle it with Alice's qubit, and extract two classical bits to be sent to Bob.\n",
    "\n",
    "**Inputs:** \n",
    "\n",
    "1. Alice's part of the entangled pair of qubits qAlice.\n",
    "2. A PauliX, PauliY, or PauliZ basis in which the message qubit should be prepared\n",
    "3. A Bool indicating the eigenstate in which the message qubit should be prepared\n",
    "\n",
    "**Output:** \n",
    "\n",
    "Two classical bits Alice will send to Bob via classical channel as a tuple of Bool values.  The first bit in the tuple should hold the result of measurement of the message qubit, the second bit - the result of measurement of Alice's qubit.  Represent measurement result 'One' as `true` and 'Zero' as `false`. The state of the qubit qAlice in the end of the operation doesn't matter."
   ]
  },
  {
   "cell_type": "code",
   "execution_count": null,
   "metadata": {
    "ExecuteTime": {
     "start_time": "2021-08-20T15:45:52.979Z"
    }
   },
   "outputs": [
    {
     "data": {
      "application/x-qsharp-data": "[\"PreparePauli\"]",
      "text/html": [
       "<ul><li>PreparePauli</li></ul>"
      ],
      "text/plain": [
       "PreparePauli"
      ]
     },
     "execution_count": 40,
     "metadata": {},
     "output_type": "execute_result"
    }
   ],
   "source": [
    "operation PreparePauli (q: Qubit, basis: Pauli, state: Bool): Unit is Adj+Ctl {\n",
    "    if state { X(q); }\n",
    "    if basis == PauliX {\n",
    "        H(q);\n",
    "    } elif basis == PauliY {\n",
    "        H(q);\n",
    "        S(q);\n",
    "    } elif basis == PauliZ {\n",
    "        \n",
    "    } else {\n",
    "        fail \"??\";\n",
    "    }\n",
    "}"
   ]
  },
  {
   "cell_type": "code",
   "execution_count": null,
   "metadata": {
    "ExecuteTime": {
     "start_time": "2021-08-20T15:46:10.866Z"
    }
   },
   "outputs": [
    {
     "data": {
      "application/x-qsharp-data": "\"Success!\"",
      "text/plain": [
       "Success!"
      ]
     },
     "execution_count": 41,
     "metadata": {},
     "output_type": "execute_result"
    }
   ],
   "source": [
    "%kata T15_PrepareAndSendMessage\n",
    "\n",
    "operation PrepareAndSendMessage (qAlice : Qubit, basis : Pauli, state : Bool) : (Bool, Bool) {\n",
    "    // ...\n",
    "    use qMsg = Qubit();\n",
    "    PreparePauli(qMsg, basis, state);\n",
    "    CNOT(qMsg, qAlice);\n",
    "    H(qMsg);\n",
    "    // return SendMessage(qAlice, qMsg);\n",
    "    //DumpMachine();\n",
    "    let mqa = M(qAlice) == One;\n",
    "    let mqm = M(qMsg) == One;\n",
    "    \n",
    "    return (mqm, mqa);\n",
    "}"
   ]
  },
  {
   "cell_type": "markdown",
   "metadata": {},
   "source": [
    "### Task 1.6. Reconstruct and measure the message state (Bob's task)\n",
    "\n",
    "Transform Bob's qubit into the required state using the two classical bits received from Alice and measure it in the same basis in which she prepared the message.\n",
    "    \n",
    "**Inputs:**\n",
    "\n",
    "1. Bob's part of the entangled pair of qubits qBob.\n",
    "2. The tuple of classical bits received from Alice, in the format used in task 1.5.\n",
    "3. The PauliX, PauliY, or PauliZ basis in which the message qubit was originally prepared.\n",
    "\n",
    "**Output:** A Bool indicating the eigenstate in which the message qubit was prepared, 'One' as `true` and 'Zero' as `false`.  The state of the qubit qBob in the end of the operation doesn't matter.\n",
    "\n",
    "> To get the output, transform Bob's qubit qBob into the state in which the message qubit was originally prepared, then measure it. "
   ]
  },
  {
   "cell_type": "code",
   "execution_count": null,
   "metadata": {
    "ExecuteTime": {
     "start_time": "2021-08-20T15:47:10.367Z"
    }
   },
   "outputs": [
    {
     "data": {
      "application/x-qsharp-data": "\"Success!\"",
      "text/plain": [
       "Success!"
      ]
     },
     "execution_count": 44,
     "metadata": {},
     "output_type": "execute_result"
    }
   ],
   "source": [
    "%kata T16_ReconstructAndMeasureMessage\n",
    "\n",
    "operation ReconstructAndMeasureMessage (qBob : Qubit, (b1 : Bool, b2 : Bool), basis : Pauli) : Bool {\n",
    "        \n",
    "    // ...\n",
    "    \n",
    "    if b2 { X(qBob); }\n",
    "    if b1 { Z(qBob); }\n",
    "    Adjoint PreparePauli(qBob, basis, false);\n",
    "    \n",
    "    return M(qBob) == One;\n",
    "}"
   ]
  },
  {
   "cell_type": "markdown",
   "metadata": {},
   "source": [
    "### Task 1.7. Testing standard quantum teleportation\n",
    "\n",
    "**Goal:** Test that the `StandardTeleport` operation from task 1.4 is able to successfully teleport the states $|0\\rangle$ and $|1\\rangle$, as well as superposition states such as $\\frac{1}{\\sqrt{2}} \\big(|0\\rangle + |1\\rangle\\big)$, $\\frac{1}{\\sqrt{2}} \\big(|0\\rangle - |1\\rangle\\big)$, $\\frac{1}{\\sqrt{2}} \\big(|0\\rangle + i|1\\rangle\\big)$ and $\\frac{1}{\\sqrt{2}} \\big(|0\\rangle - i|1\\rangle\\big)$.\n",
    "\n",
    "> This is an open-ended task, and is not covered by a unit test. To run the code, execute the cell with the definition of the `Run_StandardTeleport` operation first; if it compiled successfully without any errors, you can run the operation by executing the next cell (`%simulate Run_StandardTeleport`).\n",
    "\n",
    "> Note that this task relies on your implementations of the previous tasks. If you are getting the \"No variable with that name exists.\" error, you might have to execute previous code cells before retrying this task.\n",
    "\n",
    "<details>\n",
    "  <summary><b>Need a hint? Click here</b</summary>\n",
    "  You may find your answers for 1.5 and 1.6 useful\n",
    "</details>"
   ]
  },
  {
   "cell_type": "code",
   "execution_count": null,
   "metadata": {
    "ExecuteTime": {
     "start_time": "2021-08-20T15:52:38.320Z"
    }
   },
   "outputs": [
    {
     "data": {
      "application/x-qsharp-data": "[\"Run_StandardTeleport\"]",
      "text/html": [
       "<ul><li>Run_StandardTeleport</li></ul>"
      ],
      "text/plain": [
       "Run_StandardTeleport"
      ]
     },
     "execution_count": 52,
     "metadata": {},
     "output_type": "execute_result"
    }
   ],
   "source": [
    "open Microsoft.Quantum.Diagnostics;\n",
    "\n",
    "operation Run_StandardTeleport () : String {\n",
    "    // ...\n",
    "    use qMessage = Qubit();\n",
    "    use qAlice = Qubit();\n",
    "    use qBob = Qubit();\n",
    "    \n",
    "    Rx(1.0, qMessage);\n",
    "    \n",
    "    Message(\"Before Teleportation\");\n",
    "    DumpMachine();\n",
    "    StandardTeleport(qAlice, qBob, qMessage);\n",
    "    Message(\"After Teleporation\");\n",
    "    DumpMachine();\n",
    "    \n",
    "    return \"Success!\";\n",
    "}"
   ]
  },
  {
   "cell_type": "code",
   "execution_count": null,
   "metadata": {
    "ExecuteTime": {
     "start_time": "2021-08-20T15:52:52.478Z"
    }
   },
   "outputs": [
    {
     "name": "stdout",
     "output_type": "stream",
     "text": [
      "Before Teleportation\n"
     ]
    },
    {
     "data": {
      "application/x-qsharp-data": "{\"diagnostic_kind\":\"state-vector\",\"div_id\":\"dump-machine-div-dff6a885-bb9d-4ecf-a522-8f039b231c2e\",\"qubit_ids\":[0,1,2],\"n_qubits\":3,\"amplitudes\":[{\"Real\":0.8775825618903728,\"Imaginary\":0.0,\"Magnitude\":0.8775825618903728,\"Phase\":0.0},{\"Real\":0.0,\"Imaginary\":-0.479425538604203,\"Magnitude\":0.479425538604203,\"Phase\":-1.5707963267948966},{\"Real\":0.0,\"Imaginary\":0.0,\"Magnitude\":0.0,\"Phase\":0.0},{\"Real\":0.0,\"Imaginary\":0.0,\"Magnitude\":0.0,\"Phase\":0.0},{\"Real\":0.0,\"Imaginary\":0.0,\"Magnitude\":0.0,\"Phase\":0.0},{\"Real\":0.0,\"Imaginary\":0.0,\"Magnitude\":0.0,\"Phase\":0.0},{\"Real\":0.0,\"Imaginary\":0.0,\"Magnitude\":0.0,\"Phase\":0.0},{\"Real\":0.0,\"Imaginary\":0.0,\"Magnitude\":0.0,\"Phase\":0.0}]}",
      "text/html": [
       "\r\n",
       "                    <table style=\"table-layout: fixed; width: 100%\">\r\n",
       "                        <thead>\r\n",
       "                            \r\n",
       "                        <tr>\r\n",
       "                            <th>Qubit IDs</th>\r\n",
       "                            <td span=\"3\">0, 1, 2</td>\r\n",
       "                        </tr>\r\n",
       "                    \r\n",
       "                            <tr>\r\n",
       "                                <th style=\"width: 20ch)\">Basis state (bitstring)</th>\r\n",
       "                                <th style=\"width: 20ch\">Amplitude</th><th style=\"width: calc(100% - 26ch - 20ch)\">Meas. Pr.</th><th style=\"width: 6ch\">Phase</th>\r\n",
       "                            </tr>\r\n",
       "                        </thead>\r\n",
       "                        <tbody>\r\n",
       "                        \r\n",
       "                            <tr>\r\n",
       "                                <td>$\\left|000\\right\\rangle$</td>\r\n",
       "                                <td>$0.8776 + 0.0000 i$</td>\r\n",
       "                                \r\n",
       "                                <td>\r\n",
       "                                    <progress\r\n",
       "                                        max=\"100\"\r\n",
       "                                        value=\"77.01511529340699\"\r\n",
       "                                        style=\"width: 100%;\"\r\n",
       "                                    > \r\n",
       "                                    <td>\r\n",
       "                                    <p id=\"round-b938116b-d744-4b0b-ae5e-dd37b01a046a\"> \r\n",
       "                                    <script>\r\n",
       "                                    var num = 77.01511529340699;\r\n",
       "                                    num = num.toFixed(4);\r\n",
       "                                    var num_string = num + \"%\";\r\n",
       "                                     document.getElementById(\"round-b938116b-d744-4b0b-ae5e-dd37b01a046a\").innerHTML = num_string;\r\n",
       "                                    </script> </p>\r\n",
       "                                    </td>\r\n",
       "                                </td>\r\n",
       "                            \r\n",
       "                                \r\n",
       "                                <td style=\"transform: rotate(0deg);\r\n",
       "                   text-align: center;\">\r\n",
       "                                 ↑\r\n",
       "                                </td>\r\n",
       "                            \r\n",
       "                            </tr>\r\n",
       "                        \n",
       "\r\n",
       "                            <tr>\r\n",
       "                                <td>$\\left|100\\right\\rangle$</td>\r\n",
       "                                <td>$0.0000  -0.4794 i$</td>\r\n",
       "                                \r\n",
       "                                <td>\r\n",
       "                                    <progress\r\n",
       "                                        max=\"100\"\r\n",
       "                                        value=\"22.984884706593014\"\r\n",
       "                                        style=\"width: 100%;\"\r\n",
       "                                    > \r\n",
       "                                    <td>\r\n",
       "                                    <p id=\"round-556a812e-2611-4606-b99c-acb2262eb725\"> \r\n",
       "                                    <script>\r\n",
       "                                    var num = 22.984884706593014;\r\n",
       "                                    num = num.toFixed(4);\r\n",
       "                                    var num_string = num + \"%\";\r\n",
       "                                     document.getElementById(\"round-556a812e-2611-4606-b99c-acb2262eb725\").innerHTML = num_string;\r\n",
       "                                    </script> </p>\r\n",
       "                                    </td>\r\n",
       "                                </td>\r\n",
       "                            \r\n",
       "                                \r\n",
       "                                <td style=\"transform: rotate(-90deg);\r\n",
       "                   text-align: center;\">\r\n",
       "                                 ↑\r\n",
       "                                </td>\r\n",
       "                            \r\n",
       "                            </tr>\r\n",
       "                        \r\n",
       "                        </tbody>\r\n",
       "                    </table>"
      ],
      "text/plain": [
       "|000⟩\t0.8775825618903728 + 0𝑖\n",
       "|100⟩\t0 + -0.479425538604203𝑖"
      ]
     },
     "metadata": {},
     "output_type": "display_data"
    },
    {
     "name": "stdout",
     "output_type": "stream",
     "text": [
      "After Teleporation\n"
     ]
    },
    {
     "data": {
      "application/x-qsharp-data": "{\"diagnostic_kind\":\"state-vector\",\"div_id\":\"dump-machine-div-744011f6-762d-434a-a5fc-59feea66c249\",\"qubit_ids\":[0,1,2],\"n_qubits\":3,\"amplitudes\":[{\"Real\":0.0,\"Imaginary\":0.0,\"Magnitude\":0.0,\"Phase\":0.0},{\"Real\":0.0,\"Imaginary\":0.0,\"Magnitude\":0.0,\"Phase\":0.0},{\"Real\":0.8775825618903726,\"Imaginary\":0.0,\"Magnitude\":0.8775825618903726,\"Phase\":0.0},{\"Real\":0.0,\"Imaginary\":0.0,\"Magnitude\":0.0,\"Phase\":0.0},{\"Real\":0.0,\"Imaginary\":0.0,\"Magnitude\":0.0,\"Phase\":0.0},{\"Real\":0.0,\"Imaginary\":0.0,\"Magnitude\":0.0,\"Phase\":0.0},{\"Real\":0.0,\"Imaginary\":-0.47942553860420295,\"Magnitude\":0.47942553860420295,\"Phase\":-1.5707963267948966},{\"Real\":0.0,\"Imaginary\":0.0,\"Magnitude\":0.0,\"Phase\":0.0}]}",
      "text/html": [
       "\r\n",
       "                    <table style=\"table-layout: fixed; width: 100%\">\r\n",
       "                        <thead>\r\n",
       "                            \r\n",
       "                        <tr>\r\n",
       "                            <th>Qubit IDs</th>\r\n",
       "                            <td span=\"3\">0, 1, 2</td>\r\n",
       "                        </tr>\r\n",
       "                    \r\n",
       "                            <tr>\r\n",
       "                                <th style=\"width: 20ch)\">Basis state (bitstring)</th>\r\n",
       "                                <th style=\"width: 20ch\">Amplitude</th><th style=\"width: calc(100% - 26ch - 20ch)\">Meas. Pr.</th><th style=\"width: 6ch\">Phase</th>\r\n",
       "                            </tr>\r\n",
       "                        </thead>\r\n",
       "                        <tbody>\r\n",
       "                        \r\n",
       "                            <tr>\r\n",
       "                                <td>$\\left|010\\right\\rangle$</td>\r\n",
       "                                <td>$0.8776 + 0.0000 i$</td>\r\n",
       "                                \r\n",
       "                                <td>\r\n",
       "                                    <progress\r\n",
       "                                        max=\"100\"\r\n",
       "                                        value=\"77.01511529340698\"\r\n",
       "                                        style=\"width: 100%;\"\r\n",
       "                                    > \r\n",
       "                                    <td>\r\n",
       "                                    <p id=\"round-3a99d843-2023-40e8-9805-a0df5d68cc51\"> \r\n",
       "                                    <script>\r\n",
       "                                    var num = 77.01511529340698;\r\n",
       "                                    num = num.toFixed(4);\r\n",
       "                                    var num_string = num + \"%\";\r\n",
       "                                     document.getElementById(\"round-3a99d843-2023-40e8-9805-a0df5d68cc51\").innerHTML = num_string;\r\n",
       "                                    </script> </p>\r\n",
       "                                    </td>\r\n",
       "                                </td>\r\n",
       "                            \r\n",
       "                                \r\n",
       "                                <td style=\"transform: rotate(0deg);\r\n",
       "                   text-align: center;\">\r\n",
       "                                 ↑\r\n",
       "                                </td>\r\n",
       "                            \r\n",
       "                            </tr>\r\n",
       "                        \n",
       "\r\n",
       "                            <tr>\r\n",
       "                                <td>$\\left|011\\right\\rangle$</td>\r\n",
       "                                <td>$0.0000  -0.4794 i$</td>\r\n",
       "                                \r\n",
       "                                <td>\r\n",
       "                                    <progress\r\n",
       "                                        max=\"100\"\r\n",
       "                                        value=\"22.984884706593007\"\r\n",
       "                                        style=\"width: 100%;\"\r\n",
       "                                    > \r\n",
       "                                    <td>\r\n",
       "                                    <p id=\"round-69be6c80-1bbf-412c-8cad-31ea764dffd6\"> \r\n",
       "                                    <script>\r\n",
       "                                    var num = 22.984884706593007;\r\n",
       "                                    num = num.toFixed(4);\r\n",
       "                                    var num_string = num + \"%\";\r\n",
       "                                     document.getElementById(\"round-69be6c80-1bbf-412c-8cad-31ea764dffd6\").innerHTML = num_string;\r\n",
       "                                    </script> </p>\r\n",
       "                                    </td>\r\n",
       "                                </td>\r\n",
       "                            \r\n",
       "                                \r\n",
       "                                <td style=\"transform: rotate(-90deg);\r\n",
       "                   text-align: center;\">\r\n",
       "                                 ↑\r\n",
       "                                </td>\r\n",
       "                            \r\n",
       "                            </tr>\r\n",
       "                        \r\n",
       "                        </tbody>\r\n",
       "                    </table>"
      ],
      "text/plain": [
       "|010⟩\t0.8775825618903726 + 0𝑖\n",
       "|011⟩\t0 + -0.47942553860420295𝑖"
      ]
     },
     "metadata": {},
     "output_type": "display_data"
    },
    {
     "data": {
      "text/html": [
       "\r\n",
       "                    <details>\r\n",
       "                        <summary>\r\n",
       "                            Unhandled exception of type Microsoft.Quantum.Simulation.Simulators.Exceptions.ReleasedQubitsAreNotInZeroState: Released qubits are not in zero state.\r\n",
       "                        </summary>\r\n",
       "                        <table>\r\n",
       "                            <thead>\r\n",
       "                                <tr>\r\n",
       "                                    <th>Source</th>\r\n",
       "                                    <th>Callable</th>\r\n",
       "                                </tr>\r\n",
       "                            </thead>\r\n",
       "\r\n",
       "                            <tbody>\r\n",
       "                                \r\n",
       "                        <tr>\r\n",
       "                            <td>(notebook)</td>\r\n",
       "                            <td>Run_StandardTeleport</td>\r\n",
       "                        </tr>\r\n",
       "                    \r\n",
       "                            </tbody>\r\n",
       "                        </table>\r\n",
       "                    </details>\r\n",
       "                "
      ],
      "text/plain": [
       "Unhandled exception. Microsoft.Quantum.Simulation.Simulators.Exceptions.ReleasedQubitsAreNotInZeroState: Released qubits are not in zero state.\n",
       " ---> SNIPPET.Run_StandardTeleport on /snippet_.qs:line 0\n"
      ]
     },
     "metadata": {},
     "output_type": "display_data"
    },
    {
     "name": "stderr",
     "output_type": "stream",
     "text": [
      "Released qubits are not in zero state.\n"
     ]
    }
   ],
   "source": [
    "%simulate Run_StandardTeleport"
   ]
  },
  {
   "cell_type": "markdown",
   "metadata": {},
   "source": [
    "## Part II. Teleportation using different entangled pair\n",
    "\n",
    "In this section we will take a look at the changes in the reconstruction process (Bob's task) if the qubits shared between Alice and Bob are entangled in a different state.  Alice's part of the protocol remains the same in all tasks.  \n",
    "As a reminder, the standard teleportation protocol requires shared qubits in state $|\\Phi^{+}\\rangle = \\frac{1}{\\sqrt{2}} \\big(|00\\rangle + |11\\rangle\\big)$.\n",
    "\n",
    "In each task, the inputs are\n",
    "1. Bob's part of the entangled pair of qubits qBob.\n",
    "2. The tuple of classical bits received from Alice, in the format used in task 1.2.\n",
    "\n",
    "The goal is to transform Bob's qubit qBob into the state in which the message qubit had been originally."
   ]
  },
  {
   "cell_type": "markdown",
   "metadata": {},
   "source": [
    "### Task 2.1. Reconstruct the message if the entangled qubits were in the state $|\\Phi^{-}\\rangle = \\frac{1}{\\sqrt{2}} \\big(|00\\rangle - |11\\rangle\\big)$"
   ]
  },
  {
   "cell_type": "code",
   "execution_count": null,
   "metadata": {
    "ExecuteTime": {
     "start_time": "2021-08-20T17:00:10.727Z"
    }
   },
   "outputs": [
    {
     "data": {
      "application/x-qsharp-data": "\"Success!\"",
      "text/plain": [
       "Success!"
      ]
     },
     "execution_count": 55,
     "metadata": {},
     "output_type": "execute_result"
    }
   ],
   "source": [
    "%kata T21_ReconstructMessage_PhiMinus\n",
    "\n",
    "operation ReconstructMessage_PhiMinus (qBob : Qubit, (b1 : Bool, b2 : Bool)) : Unit {\n",
    "    // ...\n",
    "    if not b1 and not b2 {\n",
    "        Z(qBob);\n",
    "    } elif not b1 and b2 {\n",
    "        Z(qBob);\n",
    "        X(qBob);\n",
    "    } elif b1 and not b2 {\n",
    "        \n",
    "    } elif b1 and b2 {\n",
    "        Z(qBob);\n",
    "        X(qBob);\n",
    "        Z(qBob);\n",
    "    }\n",
    "}"
   ]
  },
  {
   "cell_type": "markdown",
   "metadata": {},
   "source": [
    "### Task 2.2. Reconstruct the message if the entangled qubits were in the state $|\\Psi^{+}\\rangle = \\frac{1}{\\sqrt{2}} \\big(|01\\rangle + |10\\rangle\\big)$"
   ]
  },
  {
   "cell_type": "code",
   "execution_count": null,
   "metadata": {
    "ExecuteTime": {
     "start_time": "2021-08-20T17:50:59.725Z"
    }
   },
   "outputs": [
    {
     "data": {
      "application/x-qsharp-data": "\"Success!\"",
      "text/plain": [
       "Success!"
      ]
     },
     "execution_count": 57,
     "metadata": {},
     "output_type": "execute_result"
    }
   ],
   "source": [
    "%kata T22_ReconstructMessage_PsiPlus\n",
    "\n",
    "operation ReconstructMessage_PsiPlus (qBob : Qubit, (b1 : Bool, b2 : Bool)) : Unit {\n",
    "    // ...\n",
    "    if not b1 and not b2 {\n",
    "        X(qBob);\n",
    "    } elif not b1 and b2 {\n",
    "        \n",
    "    } elif b1 and not b2 {\n",
    "        X(qBob);\n",
    "        Z(qBob);\n",
    "    } elif b1 and b2 {\n",
    "        Z(qBob);\n",
    "    }\n",
    "}"
   ]
  },
  {
   "cell_type": "markdown",
   "metadata": {},
   "source": [
    "### Task 2.3. Reconstruct the message if the entangled qubits were in the state $|\\Psi^{-}\\rangle = \\frac{1}{\\sqrt{2}} \\big(|01\\rangle - |10\\rangle\\big)$"
   ]
  },
  {
   "cell_type": "code",
   "execution_count": null,
   "metadata": {
    "ExecuteTime": {
     "start_time": "2021-08-20T18:13:32.013Z"
    }
   },
   "outputs": [
    {
     "data": {
      "application/x-qsharp-data": "\"Success!\"",
      "text/plain": [
       "Success!"
      ]
     },
     "execution_count": 59,
     "metadata": {},
     "output_type": "execute_result"
    }
   ],
   "source": [
    "%kata T23_ReconstructMessage_PsiMinus\n",
    "\n",
    "operation ReconstructMessage_PsiMinus (qBob : Qubit, (b1 : Bool, b2 : Bool)) : Unit {\n",
    "    // ...\n",
    "    if not b1 and not b2 {\n",
    "        X(qBob);\n",
    "        Z(qBob);\n",
    "    } elif not b1 and b2 {\n",
    "        X(qBob);\n",
    "        Z(qBob);\n",
    "        X(qBob);\n",
    "    } elif b1 and not b2 {\n",
    "        X(qBob);\n",
    "    } elif b1 and b2 {\n",
    "        Z(qBob);\n",
    "        X(qBob);\n",
    "        Z(qBob);\n",
    "        X(qBob);\n",
    "    }\n",
    "}\n"
   ]
  },
  {
   "cell_type": "markdown",
   "metadata": {},
   "source": [
    "## Part III. Principle of deferred measurement\n",
    "\n",
    "The principle of deferred measurement claims that measurements can be moved from an intermediate stage of a quantum circuit to the end of the circuit.  If the measurement results are used to perform classically controlled operations, they can be replaced by controlled quantum operations."
   ]
  },
  {
   "cell_type": "markdown",
   "metadata": {},
   "source": [
    "### Task 3.1. Measurement-free teleportation.\n",
    "\n",
    "In this task we will apply this principle to the teleportation circuit.\n",
    "\n",
    "**Inputs:** \n",
    "\n",
    "1. The two qubits qAlice and qBob in $|\\Phi^{+}\\rangle$ state.\n",
    "2. The message qubit qMessage in the state $|\\psi\\rangle$ to be teleported.\n",
    "\n",
    "**Goal:** transform Bob's qubit qBob into the state $|\\psi\\rangle$ using no measurements.  At the end of the operation qubits qAlice and qMessage should not be entangled with qBob."
   ]
  },
  {
   "cell_type": "code",
   "execution_count": null,
   "metadata": {
    "ExecuteTime": {
     "start_time": "2021-08-21T12:23:39.036Z"
    }
   },
   "outputs": [
    {
     "data": {
      "application/x-qsharp-data": "\"Success!\"",
      "text/plain": [
       "Success!"
      ]
     },
     "execution_count": 65,
     "metadata": {},
     "output_type": "execute_result"
    }
   ],
   "source": [
    "%kata T31_MeasurementFreeTeleport\n",
    "\n",
    "operation MeasurementFreeTeleport (qAlice : Qubit, qBob : Qubit, qMessage : Qubit) : Unit {\n",
    "    // ... \n",
    "    // DumpMachine();\n",
    "    CNOT(qMessage, qAlice);\n",
    "    H(qMessage);\n",
    "    CNOT(qAlice, qBob);\n",
    "    Controlled Z([qMessage], qBob);\n",
    "    // DumpMachine();\n",
    "}"
   ]
  },
  {
   "cell_type": "markdown",
   "metadata": {},
   "source": [
    "## Part IV. Teleportation with three entangled qubits\n",
    "\n",
    "Quantum teleportation using entangled states other than Bell pairs is also feasible.  Here we look at just one of many possible schemes - in it a state is transferred from Alice to a third participant Charlie, but this may only be accomplished if Charlie\n",
    "has the trust of the second participant Bob."
   ]
  },
  {
   "cell_type": "markdown",
   "metadata": {},
   "source": [
    "### Task 4.1. Entangled trio\n",
    "\n",
    "**Inputs:** three qubits qAlice, qBob, and qCharlie, each in $|0\\rangle$ state.\n",
    "\n",
    "**Goal:** create an entangled state $|\\Psi^{3}\\rangle = \\frac{1}{2} \\big(|000\\rangle + |011\\rangle + |101\\rangle + |110\\rangle\\big)$ on these qubits.\n",
    "\n",
    "In the context of the quantum teleportation protocol, this is the preparation step: qubits qAlice, qBob, and qCharlie will be sent to Alice, Bob, and Charlie respectively."
   ]
  },
  {
   "cell_type": "code",
   "execution_count": null,
   "metadata": {
    "ExecuteTime": {
     "start_time": "2021-08-21T16:11:49.261Z"
    }
   },
   "outputs": [
    {
     "data": {
      "application/x-qsharp-data": "\"Success!\"",
      "text/plain": [
       "Success!"
      ]
     },
     "execution_count": 66,
     "metadata": {},
     "output_type": "execute_result"
    }
   ],
   "source": [
    "%kata T41_EntangleThreeQubits\n",
    "\n",
    "operation EntangleThreeQubits (qAlice : Qubit, qBob : Qubit, qCharlie : Qubit) : Unit {\n",
    "    // ...\n",
    "    H(qAlice);\n",
    "    H(qBob);\n",
    "    CNOT(qAlice, qCharlie);\n",
    "    CNOT(qBob, qCharlie);\n",
    "}"
   ]
  },
  {
   "cell_type": "markdown",
   "metadata": {},
   "source": [
    "### Task 4.2. Reconstruct the message (Charlie's task)\n",
    "\n",
    "Alice has a message qubit in the state $|\\psi\\rangle$  to be teleported, she has entangled it with her own qubit from $|\\Psi^{3}\\rangle$ in the same manner as task 1.2 and extracted two classical bits in order to send them to Charlie. Bob has also measured his own qubit from $|\\Psi^{3}\\rangle$ and sent Charlie the result. Transform Charlie's qubit into the required state using the two classical bits received from Alice, and the one classical bit received from Bob.\n",
    "\n",
    "**Inputs:** \n",
    "1. Charlie's part of the entangled trio of qubits qCharlie.\n",
    "2. The tuple of classical bits received from Alice, in the format used in task 1.2.\n",
    "3. A classical bit resulting from the measurement of Bob's qubit.\n",
    "\n",
    "**Goal:** Transform Charlie's qubit qCharlie into the state in which the message qubit had been originally."
   ]
  },
  {
   "cell_type": "code",
   "execution_count": null,
   "metadata": {
    "ExecuteTime": {
     "start_time": "2021-08-21T16:43:40.471Z"
    }
   },
   "outputs": [
    {
     "data": {
      "application/x-qsharp-data": "\"Success!\"",
      "text/plain": [
       "Success!"
      ]
     },
     "execution_count": 67,
     "metadata": {},
     "output_type": "execute_result"
    }
   ],
   "source": [
    "%kata T42_ReconstructMessageWhenThreeEntangledQubits\n",
    "\n",
    "operation ReconstructMessageWhenThreeEntangledQubits (qCharlie : Qubit, (b1 : Bool, b2 : Bool), b3 : Bool) : Unit {\n",
    "    // ...\n",
    "    if b3 {\n",
    "        X(qCharlie);\n",
    "    }\n",
    "    if b2 {\n",
    "        X(qCharlie);\n",
    "    }\n",
    "    if b1 {\n",
    "        Z(qCharlie);\n",
    "    }\n",
    "}"
   ]
  },
  {
   "cell_type": "code",
   "execution_count": null,
   "metadata": {},
   "outputs": [],
   "source": []
  }
 ],
 "metadata": {
  "kernelspec": {
   "display_name": "Q#",
   "language": "qsharp",
   "name": "iqsharp"
  },
  "language_info": {
   "file_extension": ".qs",
   "mimetype": "text/x-qsharp",
   "name": "qsharp",
   "version": "0.14"
  },
  "toc": {
   "base_numbering": 1,
   "nav_menu": {},
   "number_sections": true,
   "sideBar": true,
   "skip_h1_title": false,
   "title_cell": "Table of Contents",
   "title_sidebar": "Contents",
   "toc_cell": false,
   "toc_position": {},
   "toc_section_display": true,
   "toc_window_display": true
  },
  "varInspector": {
   "cols": {
    "lenName": 16,
    "lenType": 16,
    "lenVar": 40
   },
   "kernels_config": {
    "python": {
     "delete_cmd_postfix": "",
     "delete_cmd_prefix": "del ",
     "library": "var_list.py",
     "varRefreshCmd": "print(var_dic_list())"
    },
    "r": {
     "delete_cmd_postfix": ") ",
     "delete_cmd_prefix": "rm(",
     "library": "var_list.r",
     "varRefreshCmd": "cat(var_dic_list()) "
    }
   },
   "types_to_exclude": [
    "module",
    "function",
    "builtin_function_or_method",
    "instance",
    "_Feature"
   ],
   "window_display": false
  }
 },
 "nbformat": 4,
 "nbformat_minor": 2
}
